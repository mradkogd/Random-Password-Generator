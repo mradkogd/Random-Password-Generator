{
 "cells": [
  {
   "cell_type": "code",
   "execution_count": 4,
   "metadata": {},
   "outputs": [
    {
     "name": "stdout",
     "output_type": "stream",
     "text": [
      "Generated password:  8rx`azud_ugs>$.\n"
     ]
    }
   ],
   "source": [
    "import string\n",
    "import random\n",
    "import time\n",
    "\n",
    "\n",
    "\n",
    "def genpas(length, complex):\n",
    "    password = \"\"\n",
    "    characters = string.ascii_letters + string.digits + string.punctuation\n",
    "\n",
    "\n",
    "    for i in range(length):\n",
    "        password += random.choice(characters)\n",
    "\n",
    "    if complex == \"strong\":\n",
    "        return password\n",
    "    elif complex == \"medium\":\n",
    "        password = \"\".join(random.sample(password, len(password)))\n",
    "        return password\n",
    "    elif complex == \"weak\":\n",
    "        password = \"\".join(random.sample(password, length // 2))\n",
    "        return password\n",
    "    else:\n",
    "        return \"Cant identify complexity\"\n",
    "\n",
    "length = int(input(\"Enter password length: \"))\n",
    "complex = input(\"Enter password complexity (strong/medium/weak): \")\n",
    "password = genpas(length, complex)\n",
    "\n",
    "current_time = time.asctime(time.localtime(time.time()))\n",
    "log_file = open(\"password_log.txt\", \"a\")\n",
    "log_file.write(f\"Password: {password} - Creation time: {current_time}\\n\")\n",
    "log_file.close()\n",
    "print(\"Generated password: \", password)\n"
   ]
  }
 ],
 "metadata": {
  "kernelspec": {
   "display_name": "base",
   "language": "python",
   "name": "python3"
  },
  "language_info": {
   "codemirror_mode": {
    "name": "ipython",
    "version": 3
   },
   "file_extension": ".py",
   "mimetype": "text/x-python",
   "name": "python",
   "nbconvert_exporter": "python",
   "pygments_lexer": "ipython3",
   "version": "3.8.8"
  },
  "orig_nbformat": 4,
  "vscode": {
   "interpreter": {
    "hash": "2043299c89c8cd0b4d1a6f5cf4529bd58e6a4e0fe3181a25e0d328c821cdc5c5"
   }
  }
 },
 "nbformat": 4,
 "nbformat_minor": 2
}
